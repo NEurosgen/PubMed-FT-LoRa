{
 "cells": [
  {
   "cell_type": "code",
   "execution_count": null,
   "id": "c2017c98",
   "metadata": {},
   "outputs": [],
   "source": [
    "import os, sys\n",
    "\n",
    "project_root = os.path.abspath(os.path.join(os.getcwd(), '..'))\n",
    "os.chdir(project_root)\n",
    "sys.path.append(project_root)"
   ]
  },
  {
   "cell_type": "code",
   "execution_count": null,
   "id": "c5e6117e",
   "metadata": {},
   "outputs": [],
   "source": [
    "import pandas as pd\n",
    "import src.Preprocessing\n",
    "from torch.utils.data import Dataset\n",
    "dataset_train = pd.read_csv(\"data/pubmed_train.csv\",nrows = 1000)"
   ]
  },
  {
   "cell_type": "code",
   "execution_count": 2,
   "id": "f45771a9",
   "metadata": {},
   "outputs": [],
   "source": [
    "\n",
    "class DatasetMed(Preprocessing.PubMedTokenizerPipeline):\n",
    "    def __init__(self,max_length):\n",
    "        super().__init__(max_length=max_length)\n",
    "    def users_fields(self, examples):\n",
    "        assert \"abstract\" in examples\n",
    "        return examples['abstract']"
   ]
  },
  {
   "cell_type": "code",
   "execution_count": 3,
   "id": "986349e5",
   "metadata": {},
   "outputs": [],
   "source": [
    "def preprocess(data):\n",
    "    print(\"before \\n\",data.isna().sum())     \n",
    "    return  data.dropna(axis=0)"
   ]
  },
  {
   "cell_type": "code",
   "execution_count": 4,
   "id": "36b5ad58",
   "metadata": {},
   "outputs": [],
   "source": [
    "def add_labels(example):\n",
    "    example[\"labels\"] = example[\"input_ids\"].clone()\n",
    "    return example"
   ]
  },
  {
   "cell_type": "code",
   "execution_count": 5,
   "id": "0c51aeeb",
   "metadata": {},
   "outputs": [],
   "source": [
    "def Pipeline(data):  \n",
    "    cl = preprocess(data)  \n",
    "    tokenizer_pipeline = DatasetMed(max_length=256)\n",
    "    tokenized_dataset = tokenizer_pipeline(cl)\n",
    "    ds = tokenized_dataset.map(add_labels)\n",
    "    columns_to_keep = [\"input_ids\", \"attention_mask\", \"labels\"]\n",
    "    ds = ds.remove_columns([col for col in ds.column_names if col not in columns_to_keep])\n",
    "    return ds"
   ]
  },
  {
   "cell_type": "code",
   "execution_count": null,
   "id": "c943c6bd",
   "metadata": {},
   "outputs": [
    {
     "name": "stdout",
     "output_type": "stream",
     "text": [
      "before \n",
      " article     1129\n",
      "abstract       0\n",
      "dtype: int64\n"
     ]
    },
    {
     "data": {
      "application/vnd.jupyter.widget-view+json": {
       "model_id": "d2b70828409341b480a62af21de1fe97",
       "version_major": 2,
       "version_minor": 0
      },
      "text/plain": [
       "Map:   0%|          | 0/48871 [00:00<?, ? examples/s]"
      ]
     },
     "metadata": {},
     "output_type": "display_data"
    },
    {
     "data": {
      "application/vnd.jupyter.widget-view+json": {
       "model_id": "feea25993ae549ad94929e6f09d73624",
       "version_major": 2,
       "version_minor": 0
      },
      "text/plain": [
       "Map:   0%|          | 0/48871 [00:00<?, ? examples/s]"
      ]
     },
     "metadata": {},
     "output_type": "display_data"
    },
    {
     "data": {
      "application/vnd.jupyter.widget-view+json": {
       "model_id": "16718f3e138f4c898ddde129053fb7bf",
       "version_major": 2,
       "version_minor": 0
      },
      "text/plain": [
       "Creating parquet from Arrow format:   0%|          | 0/49 [00:00<?, ?ba/s]"
      ]
     },
     "metadata": {},
     "output_type": "display_data"
    },
    {
     "data": {
      "text/plain": [
       "163229140"
      ]
     },
     "execution_count": 6,
     "metadata": {},
     "output_type": "execute_result"
    }
   ],
   "source": [
    "\n",
    "ds = Pipeline(dataset_train)\n",
    "ds.to_parquet(\"data/dataset_big.parquet\")"
   ]
  }
 ],
 "metadata": {
  "kernelspec": {
   "display_name": "Python 3",
   "language": "python",
   "name": "python3"
  },
  "language_info": {
   "codemirror_mode": {
    "name": "ipython",
    "version": 3
   },
   "file_extension": ".py",
   "mimetype": "text/x-python",
   "name": "python",
   "nbconvert_exporter": "python",
   "pygments_lexer": "ipython3",
   "version": "3.10.5"
  }
 },
 "nbformat": 4,
 "nbformat_minor": 5
}
